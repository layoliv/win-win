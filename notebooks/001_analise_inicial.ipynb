{
 "cells": [
  {
   "cell_type": "code",
   "execution_count": 92,
   "id": "bbcf23cc",
   "metadata": {},
   "outputs": [],
   "source": [
    "import requests\n",
    "from bs4 import BeautifulSoup"
   ]
  },
  {
   "cell_type": "code",
   "execution_count": 93,
   "id": "81bceac4",
   "metadata": {},
   "outputs": [],
   "source": [
    "url = 'http://ufcstats.com/statistics/events/completed'"
   ]
  },
  {
   "cell_type": "code",
   "execution_count": 94,
   "id": "8c91549a",
   "metadata": {},
   "outputs": [],
   "source": [
    "page = requests.get(url)"
   ]
  },
  {
   "cell_type": "code",
   "execution_count": 95,
   "id": "0bdd6f2c",
   "metadata": {},
   "outputs": [],
   "source": [
    "soup = BeautifulSoup(page.content, 'html.parser')"
   ]
  },
  {
   "cell_type": "code",
   "execution_count": null,
   "id": "050708bd",
   "metadata": {},
   "outputs": [
    {
     "data": {
      "text/plain": [
       "{'evento': ['UFC Fight Night: Taira vs. Park',\n",
       "  'UFC Fight Night: Whittaker vs. De Ridder',\n",
       "  'UFC 318: Holloway vs. Poirier 3'],\n",
       " 'url': ['http://ufcstats.com/event-details/f2c934689243fe4e',\n",
       "  'http://ufcstats.com/event-details/28d8638ea0a71908',\n",
       "  'http://ufcstats.com/event-details/b8e2f10efb6eca85'],\n",
       " 'data': ['August 02, 2025', 'July 26, 2025', 'July 19, 2025'],\n",
       " 'local': ['Las Vegas, Nevada, USA',\n",
       "  'Abu Dhabi, Abu Dhabi, United Arab Emirates',\n",
       "  'New Orleans, Louisiana, USA']}"
      ]
     },
     "execution_count": 100,
     "metadata": {},
     "output_type": "execute_result"
    }
   ],
   "source": [
    "tabela_eventos = {\n",
    "    \"evento\": [],\n",
    "    \"url\": [],\n",
    "    \"data\": [],\n",
    "    \"local\": []\n",
    "}\n",
    "\n",
    "for html_evento in soup.find_all('tr', class_='b-statistics__table-row')[2:]:\n",
    "\n",
    "    evento = html_evento.find_all('a', class_='b-link b-link_style_black')[0].text.replace('\\n', '').strip()\n",
    "    url = html_evento.find_all('a', class_='b-link b-link_style_black')[0]['href']\n",
    "    data = html_evento.find_all('span', class_='b-statistics__date')[0].text.replace('\\n', '').strip()\n",
    "    local = html_evento.find_all('td', class_='b-statistics__table-col b-statistics__table-col_style_big-top-padding')[0].text.replace('\\n', '').strip()\n",
    "\n",
    "    tabela_eventos['evento'].append(evento)\n",
    "    tabela_eventos['url'].append(url)\n",
    "    tabela_eventos['data'].append(data)\n",
    "    tabela_eventos['local'].append(local)\n",
    "\n",
    "tabela_eventos"
   ]
  }
 ],
 "metadata": {
  "kernelspec": {
   "display_name": ".venv",
   "language": "python",
   "name": "python3"
  },
  "language_info": {
   "codemirror_mode": {
    "name": "ipython",
    "version": 3
   },
   "file_extension": ".py",
   "mimetype": "text/x-python",
   "name": "python",
   "nbconvert_exporter": "python",
   "pygments_lexer": "ipython3",
   "version": "3.12.9"
  }
 },
 "nbformat": 4,
 "nbformat_minor": 5
}
